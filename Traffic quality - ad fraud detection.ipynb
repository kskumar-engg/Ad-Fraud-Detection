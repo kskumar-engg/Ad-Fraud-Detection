{
 "cells": [
  {
   "cell_type": "code",
   "execution_count": 39,
   "metadata": {},
   "outputs": [],
   "source": [
    "import pandas as pd\n",
    "import numpy as np\n",
    "from sklearn.preprocessing import LabelEncoder, MinMaxScaler\n",
    "import tensorflow as tf"
   ]
  },
  {
   "cell_type": "code",
   "execution_count": 3,
   "metadata": {},
   "outputs": [
    {
     "data": {
      "text/plain": [
       "Index(['ip', 'app', 'device', 'os', 'channel', 'click_time', 'attributed_time',\n",
       "       'is_attributed'],\n",
       "      dtype='object')"
      ]
     },
     "execution_count": 3,
     "metadata": {},
     "output_type": "execute_result"
    }
   ],
   "source": [
    "df = pd.read_csv(\"train.csv\")\n",
    "df.columns"
   ]
  },
  {
   "cell_type": "code",
   "execution_count": 4,
   "metadata": {},
   "outputs": [
    {
     "name": "stdout",
     "output_type": "stream",
     "text": [
      "184903890 8\n"
     ]
    }
   ],
   "source": [
    "rows, cols = df.shape\n",
    "print(rows, cols)"
   ]
  },
  {
   "cell_type": "code",
   "execution_count": 6,
   "metadata": {},
   "outputs": [
    {
     "name": "stdout",
     "output_type": "stream",
     "text": [
      "is_attributed\n",
      "0    184447044\n",
      "1       456846\n",
      "Name: count, dtype: int64\n"
     ]
    }
   ],
   "source": [
    "kkkkkk\n",
    "count_zeroes_ones = dfkkkkkkkkkkkkkkk['is_attributed'].value_counts()\n",
    "\n",
    "print(count_zeroes_ones)"
   ]
  },
  {
   "cell_type": "code",
   "execution_count": 10,
   "metadata": {},
   "outputs": [
    {
     "data": {
      "text/html": [
       "<div>\n",
       "<style scoped>\n",
       "    .dataframe tbody tr th:only-of-type {\n",
       "        vertical-align: middle;\n",
       "    }\n",
       "\n",
       "    .dataframe tbody tr th {\n",
       "        vertical-align: top;\n",
       "    }\n",
       "\n",
       "    .dataframe thead th {\n",
       "        text-align: right;\n",
       "    }\n",
       "</style>\n",
       "<table border=\"1\" class=\"dataframe\">\n",
       "  <thead>\n",
       "    <tr style=\"text-align: right;\">\n",
       "      <th></th>\n",
       "      <th>ip</th>\n",
       "      <th>app</th>\n",
       "      <th>device</th>\n",
       "      <th>os</th>\n",
       "      <th>channel</th>\n",
       "      <th>click_time</th>\n",
       "      <th>attributed_time</th>\n",
       "      <th>is_attributed</th>\n",
       "    </tr>\n",
       "  </thead>\n",
       "  <tbody>\n",
       "    <tr>\n",
       "      <th>0</th>\n",
       "      <td>87540</td>\n",
       "      <td>12</td>\n",
       "      <td>1</td>\n",
       "      <td>13</td>\n",
       "      <td>497</td>\n",
       "      <td>2017-11-07 09:30:38</td>\n",
       "      <td>NaN</td>\n",
       "      <td>0</td>\n",
       "    </tr>\n",
       "    <tr>\n",
       "      <th>1</th>\n",
       "      <td>105560</td>\n",
       "      <td>25</td>\n",
       "      <td>1</td>\n",
       "      <td>17</td>\n",
       "      <td>259</td>\n",
       "      <td>2017-11-07 13:40:27</td>\n",
       "      <td>NaN</td>\n",
       "      <td>0</td>\n",
       "    </tr>\n",
       "  </tbody>\n",
       "</table>\n",
       "</div>"
      ],
      "text/plain": [
       "       ip  app  device  os  channel           click_time attributed_time  \\\n",
       "0   87540   12       1  13      497  2017-11-07 09:30:38             NaN   \n",
       "1  105560   25       1  17      259  2017-11-07 13:40:27             NaN   \n",
       "\n",
       "   is_attributed  \n",
       "0              0  \n",
       "1              0  "
      ]
     },
     "execution_count": 10,
     "metadata": {},
     "output_type": "execute_result"
    }
   ],
   "source": [
    "df_sample = pd.read_csv(\"train_sample.csv\")\n",
    "df_sample.head(2)"
   ]
  },
  {
   "cell_type": "code",
   "execution_count": 11,
   "metadata": {},
   "outputs": [
    {
     "name": "stdout",
     "output_type": "stream",
     "text": [
      "100000 8\n"
     ]
    }
   ],
   "source": [
    "r,c = df_sample.shape\n",
    "print(r,c)\n"
   ]
  },
  {
   "cell_type": "code",
   "execution_count": 13,
   "metadata": {},
   "outputs": [
    {
     "name": "stdout",
     "output_type": "stream",
     "text": [
      "18790469 7\n"
     ]
    }
   ],
   "source": [
    "df_test_sample = pd.read_csv(\"test.csv\")\n",
    "r,c = df_test_sample.shape\n",
    "print(r,c)"
   ]
  },
  {
   "cell_type": "markdown",
   "metadata": {},
   "source": [
    "Using the following: train.csv first "
   ]
  },
  {
   "cell_type": "code",
   "execution_count": 15,
   "metadata": {},
   "outputs": [
    {
     "name": "stdout",
     "output_type": "stream",
     "text": [
      "Sampling fraction for negatives: 0.051739\n",
      "Wrote 1693 positive samples to CSV.\n",
      "Wrote 51652 negative samples to CSV.\n",
      "Wrote 2914 positive samples to CSV.\n",
      "Wrote 51588 negative samples to CSV.\n",
      "Wrote 2391 positive samples to CSV.\n",
      "Wrote 51616 negative samples to CSV.\n",
      "Wrote 2260 positive samples to CSV.\n",
      "Wrote 51622 negative samples to CSV.\n",
      "Collected enough negative samples.\n",
      "Total positive samples collected: 456846\n",
      "Total negative samples collected: 9543160\n",
      "Shuffling the final dataset...\n"
     ]
    },
    {
     "name": "stderr",
     "output_type": "stream",
     "text": [
      "C:\\Users\\KsK\\AppData\\Local\\Temp\\ipykernel_18856\\3622002142.py:67: DtypeWarning: Columns (6) have mixed types. Specify dtype option on import or set low_memory=False.\n",
      "  sampled_data = pd.read_csv(output_file)\n"
     ]
    },
    {
     "name": "stdout",
     "output_type": "stream",
     "text": [
      "Final sampled data saved to 'train_st_sample.csv'.\n",
      "is_attributed\n",
      "0    9543160\n",
      "1     456846\n",
      "Name: count, dtype: int64\n"
     ]
    }
   ],
   "source": [
    "import pandas as pd\n",
    "import numpy as np\n",
    "import os\n",
    "\n",
    "chunk_size = 1_000_000 \n",
    "desired_total_samples = 10_000_000 \n",
    "positive_class = 1\n",
    "negative_class = 0\n",
    "output_file = 'train_st_sample.csv'\n",
    "\n",
    "# If output file name exists, i am removing that.\n",
    "if os.path.exists(output_file):\n",
    "    os.remove(output_file)\n",
    "\n",
    "total_positive_samples = 0\n",
    "total_negative_samples_sampled = 0\n",
    "estimated_positive_samples = 456846  # Counted this already. Refer previous notebook cells\n",
    "num_negative_samples_needed = desired_total_samples - estimated_positive_samples\n",
    "\n",
    "\n",
    "estimated_total_negatives = 184447044\n",
    "sampling_fraction_negatives = num_negative_samples_needed / estimated_total_negatives\n",
    "\n",
    "print(f\"Sampling fraction for negatives: {sampling_fraction_negatives:.6f}\")\n",
    "count = 0\n",
    "# Reading csv file in chunks\n",
    "for chunk in pd.read_csv('train.csv', chunksize=chunk_size):        #chunks ensure temporal coverage spanning entire time range\n",
    "\n",
    "    # Separating positive and negative samples in the chunk\n",
    "    pos_chunk = chunk[chunk['is_attributed'] == positive_class]\n",
    "    neg_chunk = chunk[chunk['is_attributed'] == negative_class]\n",
    "\n",
    "    # Writing samples to CSV to avoid memory issues\n",
    "    if not pos_chunk.empty:\n",
    "        total_positive_samples += len(pos_chunk)\n",
    "        pos_chunk.to_csv(output_file, mode='a', index=False, header=not os.path.exists(output_file))\n",
    "        if count %50 == 0: print(f\"Wrote {len(pos_chunk)} positive samples to CSV.\")\n",
    "        \n",
    "    #Sampling negatives for each chunk ensures feature diversity\n",
    "    sampled_neg_chunk = neg_chunk.sample(frac=sampling_fraction_negatives, random_state=42)\n",
    "    if not sampled_neg_chunk.empty:\n",
    "        total_negative_samples_sampled += len(sampled_neg_chunk)\n",
    "        sampled_neg_chunk.to_csv(output_file, mode='a', index=False, header=not os.path.exists(output_file))\n",
    "        if count %50 == 0: print(f\"Wrote {len(sampled_neg_chunk)} negative samples to CSV.\")\n",
    "\n",
    " \n",
    "\n",
    "    if total_negative_samples_sampled >= num_negative_samples_needed:\n",
    "        print(\"Collected enough negative samples.\")\n",
    "        break\n",
    "    count+= 1\n",
    "\n",
    "# As we have less positives, we try to fetch all +ves\n",
    "if total_negative_samples_sampled < num_negative_samples_needed:\n",
    "    print(\"Processing remaining chunks for positive samples.\")\n",
    "    for chunk in pd.read_csv('train.csv', chunksize=chunk_size, skiprows=range(1, chunk_size * (len(range(0, total_negative_samples_sampled, chunk_size)) + 1))):\n",
    "        pos_chunk = chunk[chunk['is_attributed'] == positive_class]\n",
    "        if not pos_chunk.empty:\n",
    "            total_positive_samples += len(pos_chunk)\n",
    "            pos_chunk.to_csv(output_file, mode='a', index=False, header=False)\n",
    "            print(f\"Wrote {len(pos_chunk)} positive samples to CSV.\")\n",
    "\n",
    "print(f\"Total positive samples collected: {total_positive_samples}\")\n",
    "print(f\"Total negative samples collected: {total_negative_samples_sampled}\")\n",
    "\n",
    "# Reading the df_fs again and shuffling it.\n",
    "print(\"Shuffling the final df_fsset to ensure randomness\")\n",
    "sampled_data = pd.read_csv(output_file)\n",
    "sampled_data = sampled_data.sample(frac=1, random_state=42).reset_index(drop=True)\n",
    "sampled_data.to_csv(output_file, index=False)\n",
    "print(f\"Final sampled data saved to '{output_file}'.\")\n",
    "print(sampled_data['is_attributed'].value_counts())\n"
   ]
  },
  {
   "cell_type": "markdown",
   "metadata": {},
   "source": [
    "Previous step involved:\n",
    "i)Sampling all +ve cases\n",
    "ii)Selective sampling of fractions of -ve cases with adjusted class proportions.\n"
   ]
  },
  {
   "cell_type": "code",
   "execution_count": 16,
   "metadata": {},
   "outputs": [],
   "source": [
    "import pandas as pd"
   ]
  },
  {
   "cell_type": "code",
   "execution_count": 17,
   "metadata": {},
   "outputs": [
    {
     "data": {
      "text/html": [
       "<div>\n",
       "<style scoped>\n",
       "    .dataframe tbody tr th:only-of-type {\n",
       "        vertical-align: middle;\n",
       "    }\n",
       "\n",
       "    .dataframe tbody tr th {\n",
       "        vertical-align: top;\n",
       "    }\n",
       "\n",
       "    .dataframe thead th {\n",
       "        text-align: right;\n",
       "    }\n",
       "</style>\n",
       "<table border=\"1\" class=\"dataframe\">\n",
       "  <thead>\n",
       "    <tr style=\"text-align: right;\">\n",
       "      <th></th>\n",
       "      <th>ip</th>\n",
       "      <th>app</th>\n",
       "      <th>device</th>\n",
       "      <th>os</th>\n",
       "      <th>channel</th>\n",
       "      <th>click_time</th>\n",
       "      <th>attributed_time</th>\n",
       "      <th>is_attributed</th>\n",
       "    </tr>\n",
       "  </thead>\n",
       "  <tbody>\n",
       "    <tr>\n",
       "      <th>0</th>\n",
       "      <td>32823</td>\n",
       "      <td>28</td>\n",
       "      <td>1</td>\n",
       "      <td>18</td>\n",
       "      <td>135</td>\n",
       "      <td>2017-11-08 14:22:32</td>\n",
       "      <td>NaN</td>\n",
       "      <td>0</td>\n",
       "    </tr>\n",
       "    <tr>\n",
       "      <th>1</th>\n",
       "      <td>100339</td>\n",
       "      <td>18</td>\n",
       "      <td>1</td>\n",
       "      <td>19</td>\n",
       "      <td>121</td>\n",
       "      <td>2017-11-07 05:39:44</td>\n",
       "      <td>NaN</td>\n",
       "      <td>0</td>\n",
       "    </tr>\n",
       "    <tr>\n",
       "      <th>2</th>\n",
       "      <td>85577</td>\n",
       "      <td>9</td>\n",
       "      <td>1</td>\n",
       "      <td>17</td>\n",
       "      <td>215</td>\n",
       "      <td>2017-11-09 06:41:57</td>\n",
       "      <td>NaN</td>\n",
       "      <td>0</td>\n",
       "    </tr>\n",
       "  </tbody>\n",
       "</table>\n",
       "</div>"
      ],
      "text/plain": [
       "       ip  app  device  os  channel           click_time attributed_time  \\\n",
       "0   32823   28       1  18      135  2017-11-08 14:22:32             NaN   \n",
       "1  100339   18       1  19      121  2017-11-07 05:39:44             NaN   \n",
       "2   85577    9       1  17      215  2017-11-09 06:41:57             NaN   \n",
       "\n",
       "   is_attributed  \n",
       "0              0  \n",
       "1              0  \n",
       "2              0  "
      ]
     },
     "execution_count": 17,
     "metadata": {},
     "output_type": "execute_result"
    }
   ],
   "source": [
    "df = pd.read_csv(\"train_st_sample.csv\")\n",
    "df.head(3)"
   ]
  },
  {
   "cell_type": "code",
   "execution_count": 20,
   "metadata": {},
   "outputs": [
    {
     "data": {
      "text/plain": [
       "(10000006, 8)"
      ]
     },
     "execution_count": 20,
     "metadata": {},
     "output_type": "execute_result"
    }
   ],
   "source": [
    "df.shape"
   ]
  },
  {
   "cell_type": "code",
   "execution_count": 24,
   "metadata": {},
   "outputs": [
    {
     "name": "stdout",
     "output_type": "stream",
     "text": [
      "<class 'pandas.core.series.Series'>\n",
      "RangeIndex: 10000006 entries, 0 to 10000005\n",
      "Series name: attributed_time\n",
      "Non-Null Count   Dtype \n",
      "--------------   ----- \n",
      "456846 non-null  object\n",
      "dtypes: object(1)\n",
      "memory usage: 76.3+ MB\n",
      "None is_attributed\n",
      "0    9543160\n",
      "1     456846\n",
      "Name: count, dtype: int64\n"
     ]
    }
   ],
   "source": [
    "print(df.attributed_time.info(), df.is_attributed.value_counts())\n",
    "#Only rows with is_attribute(is app downloaded) set to 1 has attributed_time(download time)"
   ]
  },
  {
   "cell_type": "code",
   "execution_count": 25,
   "metadata": {},
   "outputs": [
    {
     "name": "stdout",
     "output_type": "stream",
     "text": [
      "Process complete\n"
     ]
    }
   ],
   "source": [
    "'''\n",
    "from sklearn.model_selection import StratifiedShuffleSplit is useful we split dataset into multiple data sets maintaining same class distribution\n",
    "'''\n",
    "from sklearn.model_selection import train_test_split\n",
    "import pandas as pd\n",
    "\n",
    "data = pd.read_csv('train_st_sample.csv')           #Previously created one\n",
    "\n",
    "features = ['ip', 'app', 'device', 'os', 'channel', 'click_time']\n",
    "X = data[features]  \n",
    "y = data['is_attributed']  # This is the target\n",
    "\n",
    "#ip, os, device ensures feature diversity\n",
    "X_train, X_val, y_train, y_val = train_test_split(\n",
    "    X, y, test_size=0.2, stratify=y, random_state=42\n",
    ")\n",
    "\n",
    "# Creating final training set\n",
    "train_data = pd.concat([X_train, y_train], axis=1)\n",
    "\n",
    "# Creating final validation set\n",
    "val_data = pd.concat([X_val, y_val], axis=1)\n",
    "\n",
    "train_data.to_csv('train_st_split.csv', index=False)\n",
    "val_data.to_csv('val_data.csv', index=False)\n",
    "\n",
    "print(\"Process complete\")\n",
    "\n"
   ]
  },
  {
   "cell_type": "code",
   "execution_count": 26,
   "metadata": {},
   "outputs": [
    {
     "data": {
      "text/html": [
       "<div>\n",
       "<style scoped>\n",
       "    .dataframe tbody tr th:only-of-type {\n",
       "        vertical-align: middle;\n",
       "    }\n",
       "\n",
       "    .dataframe tbody tr th {\n",
       "        vertical-align: top;\n",
       "    }\n",
       "\n",
       "    .dataframe thead th {\n",
       "        text-align: right;\n",
       "    }\n",
       "</style>\n",
       "<table border=\"1\" class=\"dataframe\">\n",
       "  <thead>\n",
       "    <tr style=\"text-align: right;\">\n",
       "      <th></th>\n",
       "      <th>ip</th>\n",
       "      <th>app</th>\n",
       "      <th>device</th>\n",
       "      <th>os</th>\n",
       "      <th>channel</th>\n",
       "      <th>click_time</th>\n",
       "      <th>is_attributed</th>\n",
       "    </tr>\n",
       "  </thead>\n",
       "  <tbody>\n",
       "    <tr>\n",
       "      <th>0</th>\n",
       "      <td>59420</td>\n",
       "      <td>3</td>\n",
       "      <td>1</td>\n",
       "      <td>9</td>\n",
       "      <td>379</td>\n",
       "      <td>2017-11-09 02:54:18</td>\n",
       "      <td>0</td>\n",
       "    </tr>\n",
       "    <tr>\n",
       "      <th>1</th>\n",
       "      <td>77953</td>\n",
       "      <td>19</td>\n",
       "      <td>0</td>\n",
       "      <td>24</td>\n",
       "      <td>347</td>\n",
       "      <td>2017-11-08 00:03:41</td>\n",
       "      <td>1</td>\n",
       "    </tr>\n",
       "    <tr>\n",
       "      <th>2</th>\n",
       "      <td>62411</td>\n",
       "      <td>13</td>\n",
       "      <td>1</td>\n",
       "      <td>13</td>\n",
       "      <td>477</td>\n",
       "      <td>2017-11-07 07:39:16</td>\n",
       "      <td>0</td>\n",
       "    </tr>\n",
       "    <tr>\n",
       "      <th>3</th>\n",
       "      <td>136653</td>\n",
       "      <td>8</td>\n",
       "      <td>1</td>\n",
       "      <td>8</td>\n",
       "      <td>259</td>\n",
       "      <td>2017-11-08 16:16:59</td>\n",
       "      <td>0</td>\n",
       "    </tr>\n",
       "    <tr>\n",
       "      <th>4</th>\n",
       "      <td>106493</td>\n",
       "      <td>2</td>\n",
       "      <td>1</td>\n",
       "      <td>15</td>\n",
       "      <td>237</td>\n",
       "      <td>2017-11-08 13:39:31</td>\n",
       "      <td>0</td>\n",
       "    </tr>\n",
       "  </tbody>\n",
       "</table>\n",
       "</div>"
      ],
      "text/plain": [
       "       ip  app  device  os  channel           click_time  is_attributed\n",
       "0   59420    3       1   9      379  2017-11-09 02:54:18              0\n",
       "1   77953   19       0  24      347  2017-11-08 00:03:41              1\n",
       "2   62411   13       1  13      477  2017-11-07 07:39:16              0\n",
       "3  136653    8       1   8      259  2017-11-08 16:16:59              0\n",
       "4  106493    2       1  15      237  2017-11-08 13:39:31              0"
      ]
     },
     "execution_count": 26,
     "metadata": {},
     "output_type": "execute_result"
    }
   ],
   "source": [
    "df = pd.read_csv(\"train_st_split.csv\")\n",
    "df.head(5)"
   ]
  },
  {
   "cell_type": "code",
   "execution_count": 29,
   "metadata": {},
   "outputs": [
    {
     "name": "stdout",
     "output_type": "stream",
     "text": [
      "<class 'pandas.core.frame.DataFrame'>\n",
      "RangeIndex: 8000004 entries, 0 to 8000003\n",
      "Data columns (total 7 columns):\n",
      " #   Column         Dtype \n",
      "---  ------         ----- \n",
      " 0   ip             int64 \n",
      " 1   app            int64 \n",
      " 2   device         int64 \n",
      " 3   os             int64 \n",
      " 4   channel        int64 \n",
      " 5   click_time     object\n",
      " 6   is_attributed  int64 \n",
      "dtypes: int64(6), object(1)\n",
      "memory usage: 427.2+ MB\n",
      "(8000004, 7) None\n"
     ]
    }
   ],
   "source": [
    "print(df.shape, df.info())"
   ]
  },
  {
   "cell_type": "code",
   "execution_count": 33,
   "metadata": {},
   "outputs": [
    {
     "name": "stdout",
     "output_type": "stream",
     "text": [
      "183 298 443 1930\n"
     ]
    }
   ],
   "source": [
    "print(df.channel.nunique(), df.os.nunique(), df.app.nunique(), df.device.nunique())"
   ]
  },
  {
   "cell_type": "markdown",
   "metadata": {},
   "source": [
    "Feature selection, encoding, feature engineering and normalization is followed"
   ]
  },
  {
   "cell_type": "code",
   "execution_count": 1,
   "metadata": {},
   "outputs": [],
   "source": [
    "import pandas as pd\n",
    "import numpy as np\n",
    "from sklearn.preprocessing import LabelEncoder\n",
    "import tensorflow as tf\n",
    "\n",
    "np.random.seed(42)\n",
    "tf.random.set_seed(42)\n",
    "\n",
    "# -----------------Start feature selection-----------------------\n",
    "\n",
    "df = pd.read_csv('train_st_split.csv')\n",
    "\n",
    "\n",
    "# Selecting relevant features\n",
    "selected_features = ['ip', 'app', 'device', 'os', 'channel', 'click_time']      #I am using it this way just in case if i need to re-use this selected_features variable again\n",
    "df = df[selected_features + ['is_attributed']]  \n",
    "\n",
    "# ------------------End feature selection-------------------------\n",
    "\n",
    "# ------------------Start encoding categorical variables----------\n",
    "\n",
    "label_encoders = {}                                             #My assumption was label encoders is only for supervised learning which is wrong.\n",
    "categorical_features = ['app', 'device', 'os', 'channel']       #categorical_features to encode\n",
    "\n",
    "for feature in categorical_features:\n",
    "    df[feature] = df[feature].astype(str)\n",
    "    le = LabelEncoder()     \n",
    "    df[feature] = le.fit_transform(df[feature])\n",
    "    \n",
    "    #Storing the label encoder for inverse transformation(future purpose)\n",
    "    label_encoders[feature] = le\n",
    "\n",
    "# -------------------End encoding categorical variables--------------\n",
    "\n",
    "# -------------------Start feature engineering-----------------------\n",
    "\n",
    "df['click_time'] = pd.to_datetime(df['click_time'])\n",
    "\n",
    "# Extracting hour and day of week\n",
    "df['hour'] = df['click_time'].dt.hour.astype(np.float32)\n",
    "df['day_of_week'] = df['click_time'].dt.dayofweek.astype(np.float32)\n",
    "\n",
    "# Sorting df by 'ip' and 'click_time' for time-based grouping\n",
    "df.sort_values(['ip', 'click_time'], inplace=True)\n",
    "\n",
    "# Calculating time since last click for each 'ip'. Allows us to figure out if same ip is initiating lots of clicks. \"bot detection\"\n",
    "df['prev_click_time'] = df.groupby('ip')['click_time'].shift(1)\n",
    "df['time_since_last_click'] = (df['click_time'] - df['prev_click_time']).dt.total_seconds()\n",
    "df.fillna({'time_since_last_click':0}, inplace=True)\n",
    "\n",
    "# Calculate click counts for 'ip' within the past hour\n",
    "# Convert 'click_time' to seconds since epoch for calculation\n",
    "df['click_time_seconds'] = df['click_time'].astype(np.int64) // 10 ** 9     #10^ 9 prevents overflow. Got this habit from leetcode\n",
    "\n",
    "df.fillna({'clicks_in_past_hour':0}, inplace=True)\n",
    "\n",
    "# Function to calculate clicks in past hour for each ip address\n",
    "def calculate_clicks_in_past_hour(group):\n",
    "    times = group['click_time_seconds'].values\n",
    "    counts = np.zeros(len(times), dtype=int)\n",
    "    for i in range(len(times)):\n",
    "        counts[i] = np.sum((times[i] - times[:i]) <= 3600)\n",
    "    return counts\n",
    "\n",
    "#df['clicks_in_past_hour'] = df.groupby('ip', group_keys=False).apply(calculate_clicks_in_past_hour) \n",
    "# If found the related reading for the deprecated error for above line in github #56226\n",
    "df['clicks_in_past_hour'] = df.groupby('ip', group_keys=False).apply(calculate_clicks_in_past_hour, include_groups=False)\n",
    "\n",
    "\n",
    "# As we have clculated the clickpsthour, deleting those needed for this calculation \n",
    "df.drop(['prev_click_time', 'click_time_seconds', 'click_time'], axis=1, inplace=True)\n",
    "\n",
    "\n",
    "# -------------------End feature engineering-----------------------\n",
    "\n"
   ]
  },
  {
   "cell_type": "code",
   "execution_count": 11,
   "metadata": {},
   "outputs": [],
   "source": [
    "df_test = df.clicks_in_past_hour[0:10000]\n",
    "df_test.to_csv('check_this.csv')\n"
   ]
  },
  {
   "cell_type": "code",
   "execution_count": 2,
   "metadata": {},
   "outputs": [],
   "source": [
    "# -------------------Start normalization of numerical features-----------------------\n",
    "\n",
    "\n",
    "\n",
    "from sklearn.preprocessing import MinMaxScaler\n",
    "import numpy as np\n",
    "\n",
    "scaler = MinMaxScaler()\n",
    "\n",
    "numerical_features = ['hour', 'day_of_week', 'time_since_last_click', 'clicks_in_past_hour']\n",
    "\n",
    "# Handling infinite values in 'time_since_last_click' if any exists\n",
    "df['time_since_last_click'] = df['time_since_last_click'].replace([np.inf, -np.inf], np.nan)\n",
    "df.fillna({'time_since_last_click': 0}, inplace=True)\n",
    "\n",
    "# Conversion arrays/lists in 'clicks_in_past_hour' to scalar values  i.e to count of clicks\n",
    "df['clicks_in_past_hour'] = df['clicks_in_past_hour'].apply(\n",
    "    lambda x: len(x) if isinstance(x, (list, np.ndarray)) else x\n",
    ")\n",
    "\n",
    "# Applying log transformation to reduce skewness\n",
    "df['time_since_last_click'] = np.log1p(df['time_since_last_click'])\n",
    "df['clicks_in_past_hour'] = np.log1p(df['clicks_in_past_hour'])\n",
    "\n",
    "# Scale numerical features\n",
    "df[numerical_features] = scaler.fit_transform(df[numerical_features])\n",
    "\n",
    "\n",
    "# -------------------End normalization of numerical features-----------------------"
   ]
  },
  {
   "cell_type": "markdown",
   "metadata": {},
   "source": [
    "Preparing data for autoencoder"
   ]
  },
  {
   "cell_type": "code",
   "execution_count": 3,
   "metadata": {},
   "outputs": [
    {
     "name": "stdout",
     "output_type": "stream",
     "text": [
      "Feature 'app': shape (8000004,)\n",
      "Feature 'device': shape (8000004,)\n",
      "Feature 'os': shape (8000004,)\n",
      "Feature 'channel': shape (8000004,)\n",
      "Feature 'hour': shape (8000004, 1)\n",
      "Feature 'day_of_week': shape (8000004, 1)\n",
      "Feature 'time_since_last_click': shape (8000004, 1)\n",
      "Feature 'clicks_in_past_hour': shape (8000004, 1)\n"
     ]
    }
   ],
   "source": [
    "\n",
    "\n",
    "# Preparing input features for the autoencoder\n",
    "\n",
    "features_df = df.drop(columns=['is_attributed', 'ip'])  \n",
    "y = df['is_attributed']  # Retained for potential evaluation that distinguishes fradulent and normal users\n",
    "\n",
    "# Preparing inputs for embedding layers and numerical features\n",
    "inputs = {}\n",
    "\n",
    "# For categorical features we need to prepare as arrays for embedding layers\n",
    "for feature in categorical_features:\n",
    "    inputs[feature] = features_df[feature].values\n",
    "\n",
    "# For numerical features  we ensure they are in the correct shape\n",
    "for feature in numerical_features:\n",
    "    inputs[feature] = features_df[feature].values.reshape(-1, 1)\n",
    "\n",
    "\n",
    "\n",
    "# The 'inputs' is a  dictionary with arrays for each feature. This will be fed into the autoencoder model.\n",
    "\n",
    "for feature in inputs:\n",
    "    print(f\"Feature '{feature}': shape {inputs[feature].shape}\")\n",
    "\n",
    "# Key is feature, value is numpy array"
   ]
  },
  {
   "cell_type": "code",
   "execution_count": 18,
   "metadata": {},
   "outputs": [
    {
     "name": "stdout",
     "output_type": "stream",
     "text": [
      "{'app': array([  2,   2,   2, ...,  92, 193,  33]), 'device': array([1, 1, 1, ..., 0, 1, 1]), 'os': array([199, 180, 152, ..., 106,  84,  35]), 'channel': array([  7,   7,   7, ...,  53,   1, 167]), 'hour': array([[0.04347826],\n",
      "       [0.52173913],\n",
      "       [0.52173913],\n",
      "       ...,\n",
      "       [0.56521739],\n",
      "       [0.34782609],\n",
      "       [0.60869565]]), 'day_of_week': array([[1.],\n",
      "       [1.],\n",
      "       [1.],\n",
      "       ...,\n",
      "       [1.],\n",
      "       [1.],\n",
      "       [1.]]), 'time_since_last_click': array([[0.        ],\n",
      "       [0.94297725],\n",
      "       [0.61256747],\n",
      "       ...,\n",
      "       [0.        ],\n",
      "       [0.        ],\n",
      "       [0.92470209]]), 'clicks_in_past_hour': array([[nan],\n",
      "       [nan],\n",
      "       [nan],\n",
      "       ...,\n",
      "       [nan],\n",
      "       [nan],\n",
      "       [nan]])}\n"
     ]
    }
   ],
   "source": [
    "print(inputs)"
   ]
  },
  {
   "cell_type": "markdown",
   "metadata": {},
   "source": [
    "Building autoencoder model"
   ]
  },
  {
   "cell_type": "code",
   "execution_count": 4,
   "metadata": {},
   "outputs": [
    {
     "name": "stderr",
     "output_type": "stream",
     "text": [
      "c:\\Users\\KsK\\anaconda3\\Lib\\site-packages\\keras\\src\\layers\\core\\embedding.py:90: UserWarning: Argument `input_length` is deprecated. Just remove it.\n",
      "  warnings.warn(\n"
     ]
    },
    {
     "data": {
      "text/html": [
       "<pre style=\"white-space:pre;overflow-x:auto;line-height:normal;font-family:Menlo,'DejaVu Sans Mono',consolas,'Courier New',monospace\"><span style=\"font-weight: bold\">Model: \"functional\"</span>\n",
       "</pre>\n"
      ],
      "text/plain": [
       "\u001b[1mModel: \"functional\"\u001b[0m\n"
      ]
     },
     "metadata": {},
     "output_type": "display_data"
    },
    {
     "data": {
      "text/html": [
       "<pre style=\"white-space:pre;overflow-x:auto;line-height:normal;font-family:Menlo,'DejaVu Sans Mono',consolas,'Courier New',monospace\">┏━━━━━━━━━━━━━━━━━━━━━┳━━━━━━━━━━━━━━━━━━━┳━━━━━━━━━━━━┳━━━━━━━━━━━━━━━━━━━┓\n",
       "┃<span style=\"font-weight: bold\"> Layer (type)        </span>┃<span style=\"font-weight: bold\"> Output Shape      </span>┃<span style=\"font-weight: bold\">    Param # </span>┃<span style=\"font-weight: bold\"> Connected to      </span>┃\n",
       "┡━━━━━━━━━━━━━━━━━━━━━╇━━━━━━━━━━━━━━━━━━━╇━━━━━━━━━━━━╇━━━━━━━━━━━━━━━━━━━┩\n",
       "│ app_input           │ (<span style=\"color: #00d7ff; text-decoration-color: #00d7ff\">None</span>, <span style=\"color: #00af00; text-decoration-color: #00af00\">1</span>)         │          <span style=\"color: #00af00; text-decoration-color: #00af00\">0</span> │ -                 │\n",
       "│ (<span style=\"color: #0087ff; text-decoration-color: #0087ff\">InputLayer</span>)        │                   │            │                   │\n",
       "├─────────────────────┼───────────────────┼────────────┼───────────────────┤\n",
       "│ device_input        │ (<span style=\"color: #00d7ff; text-decoration-color: #00d7ff\">None</span>, <span style=\"color: #00af00; text-decoration-color: #00af00\">1</span>)         │          <span style=\"color: #00af00; text-decoration-color: #00af00\">0</span> │ -                 │\n",
       "│ (<span style=\"color: #0087ff; text-decoration-color: #0087ff\">InputLayer</span>)        │                   │            │                   │\n",
       "├─────────────────────┼───────────────────┼────────────┼───────────────────┤\n",
       "│ os_input            │ (<span style=\"color: #00d7ff; text-decoration-color: #00d7ff\">None</span>, <span style=\"color: #00af00; text-decoration-color: #00af00\">1</span>)         │          <span style=\"color: #00af00; text-decoration-color: #00af00\">0</span> │ -                 │\n",
       "│ (<span style=\"color: #0087ff; text-decoration-color: #0087ff\">InputLayer</span>)        │                   │            │                   │\n",
       "├─────────────────────┼───────────────────┼────────────┼───────────────────┤\n",
       "│ channel_input       │ (<span style=\"color: #00d7ff; text-decoration-color: #00d7ff\">None</span>, <span style=\"color: #00af00; text-decoration-color: #00af00\">1</span>)         │          <span style=\"color: #00af00; text-decoration-color: #00af00\">0</span> │ -                 │\n",
       "│ (<span style=\"color: #0087ff; text-decoration-color: #0087ff\">InputLayer</span>)        │                   │            │                   │\n",
       "├─────────────────────┼───────────────────┼────────────┼───────────────────┤\n",
       "│ app_embedding       │ (<span style=\"color: #00d7ff; text-decoration-color: #00d7ff\">None</span>, <span style=\"color: #00af00; text-decoration-color: #00af00\">1</span>, <span style=\"color: #00af00; text-decoration-color: #00af00\">50</span>)     │     <span style=\"color: #00af00; text-decoration-color: #00af00\">22,150</span> │ app_input[<span style=\"color: #00af00; text-decoration-color: #00af00\">0</span>][<span style=\"color: #00af00; text-decoration-color: #00af00\">0</span>]   │\n",
       "│ (<span style=\"color: #0087ff; text-decoration-color: #0087ff\">Embedding</span>)         │                   │            │                   │\n",
       "├─────────────────────┼───────────────────┼────────────┼───────────────────┤\n",
       "│ device_embedding    │ (<span style=\"color: #00d7ff; text-decoration-color: #00d7ff\">None</span>, <span style=\"color: #00af00; text-decoration-color: #00af00\">1</span>, <span style=\"color: #00af00; text-decoration-color: #00af00\">50</span>)     │     <span style=\"color: #00af00; text-decoration-color: #00af00\">96,500</span> │ device_input[<span style=\"color: #00af00; text-decoration-color: #00af00\">0</span>][<span style=\"color: #00af00; text-decoration-color: #00af00\">…</span> │\n",
       "│ (<span style=\"color: #0087ff; text-decoration-color: #0087ff\">Embedding</span>)         │                   │            │                   │\n",
       "├─────────────────────┼───────────────────┼────────────┼───────────────────┤\n",
       "│ os_embedding        │ (<span style=\"color: #00d7ff; text-decoration-color: #00d7ff\">None</span>, <span style=\"color: #00af00; text-decoration-color: #00af00\">1</span>, <span style=\"color: #00af00; text-decoration-color: #00af00\">50</span>)     │     <span style=\"color: #00af00; text-decoration-color: #00af00\">14,900</span> │ os_input[<span style=\"color: #00af00; text-decoration-color: #00af00\">0</span>][<span style=\"color: #00af00; text-decoration-color: #00af00\">0</span>]    │\n",
       "│ (<span style=\"color: #0087ff; text-decoration-color: #0087ff\">Embedding</span>)         │                   │            │                   │\n",
       "├─────────────────────┼───────────────────┼────────────┼───────────────────┤\n",
       "│ channel_embedding   │ (<span style=\"color: #00d7ff; text-decoration-color: #00d7ff\">None</span>, <span style=\"color: #00af00; text-decoration-color: #00af00\">1</span>, <span style=\"color: #00af00; text-decoration-color: #00af00\">50</span>)     │      <span style=\"color: #00af00; text-decoration-color: #00af00\">9,150</span> │ channel_input[<span style=\"color: #00af00; text-decoration-color: #00af00\">0</span>]… │\n",
       "│ (<span style=\"color: #0087ff; text-decoration-color: #0087ff\">Embedding</span>)         │                   │            │                   │\n",
       "├─────────────────────┼───────────────────┼────────────┼───────────────────┤\n",
       "│ flatten (<span style=\"color: #0087ff; text-decoration-color: #0087ff\">Flatten</span>)   │ (<span style=\"color: #00d7ff; text-decoration-color: #00d7ff\">None</span>, <span style=\"color: #00af00; text-decoration-color: #00af00\">50</span>)        │          <span style=\"color: #00af00; text-decoration-color: #00af00\">0</span> │ app_embedding[<span style=\"color: #00af00; text-decoration-color: #00af00\">0</span>]… │\n",
       "├─────────────────────┼───────────────────┼────────────┼───────────────────┤\n",
       "│ flatten_1 (<span style=\"color: #0087ff; text-decoration-color: #0087ff\">Flatten</span>) │ (<span style=\"color: #00d7ff; text-decoration-color: #00d7ff\">None</span>, <span style=\"color: #00af00; text-decoration-color: #00af00\">50</span>)        │          <span style=\"color: #00af00; text-decoration-color: #00af00\">0</span> │ device_embedding… │\n",
       "├─────────────────────┼───────────────────┼────────────┼───────────────────┤\n",
       "│ flatten_2 (<span style=\"color: #0087ff; text-decoration-color: #0087ff\">Flatten</span>) │ (<span style=\"color: #00d7ff; text-decoration-color: #00d7ff\">None</span>, <span style=\"color: #00af00; text-decoration-color: #00af00\">50</span>)        │          <span style=\"color: #00af00; text-decoration-color: #00af00\">0</span> │ os_embedding[<span style=\"color: #00af00; text-decoration-color: #00af00\">0</span>][<span style=\"color: #00af00; text-decoration-color: #00af00\">…</span> │\n",
       "├─────────────────────┼───────────────────┼────────────┼───────────────────┤\n",
       "│ flatten_3 (<span style=\"color: #0087ff; text-decoration-color: #0087ff\">Flatten</span>) │ (<span style=\"color: #00d7ff; text-decoration-color: #00d7ff\">None</span>, <span style=\"color: #00af00; text-decoration-color: #00af00\">50</span>)        │          <span style=\"color: #00af00; text-decoration-color: #00af00\">0</span> │ channel_embeddin… │\n",
       "├─────────────────────┼───────────────────┼────────────┼───────────────────┤\n",
       "│ numerical_input     │ (<span style=\"color: #00d7ff; text-decoration-color: #00d7ff\">None</span>, <span style=\"color: #00af00; text-decoration-color: #00af00\">3</span>)         │          <span style=\"color: #00af00; text-decoration-color: #00af00\">0</span> │ -                 │\n",
       "│ (<span style=\"color: #0087ff; text-decoration-color: #0087ff\">InputLayer</span>)        │                   │            │                   │\n",
       "├─────────────────────┼───────────────────┼────────────┼───────────────────┤\n",
       "│ concatenate         │ (<span style=\"color: #00d7ff; text-decoration-color: #00d7ff\">None</span>, <span style=\"color: #00af00; text-decoration-color: #00af00\">203</span>)       │          <span style=\"color: #00af00; text-decoration-color: #00af00\">0</span> │ flatten[<span style=\"color: #00af00; text-decoration-color: #00af00\">0</span>][<span style=\"color: #00af00; text-decoration-color: #00af00\">0</span>],    │\n",
       "│ (<span style=\"color: #0087ff; text-decoration-color: #0087ff\">Concatenate</span>)       │                   │            │ flatten_1[<span style=\"color: #00af00; text-decoration-color: #00af00\">0</span>][<span style=\"color: #00af00; text-decoration-color: #00af00\">0</span>],  │\n",
       "│                     │                   │            │ flatten_2[<span style=\"color: #00af00; text-decoration-color: #00af00\">0</span>][<span style=\"color: #00af00; text-decoration-color: #00af00\">0</span>],  │\n",
       "│                     │                   │            │ flatten_3[<span style=\"color: #00af00; text-decoration-color: #00af00\">0</span>][<span style=\"color: #00af00; text-decoration-color: #00af00\">0</span>],  │\n",
       "│                     │                   │            │ numerical_input[<span style=\"color: #00af00; text-decoration-color: #00af00\">…</span> │\n",
       "├─────────────────────┼───────────────────┼────────────┼───────────────────┤\n",
       "│ dense (<span style=\"color: #0087ff; text-decoration-color: #0087ff\">Dense</span>)       │ (<span style=\"color: #00d7ff; text-decoration-color: #00d7ff\">None</span>, <span style=\"color: #00af00; text-decoration-color: #00af00\">128</span>)       │     <span style=\"color: #00af00; text-decoration-color: #00af00\">26,112</span> │ concatenate[<span style=\"color: #00af00; text-decoration-color: #00af00\">0</span>][<span style=\"color: #00af00; text-decoration-color: #00af00\">0</span>] │\n",
       "├─────────────────────┼───────────────────┼────────────┼───────────────────┤\n",
       "│ batch_normalization │ (<span style=\"color: #00d7ff; text-decoration-color: #00d7ff\">None</span>, <span style=\"color: #00af00; text-decoration-color: #00af00\">128</span>)       │        <span style=\"color: #00af00; text-decoration-color: #00af00\">512</span> │ dense[<span style=\"color: #00af00; text-decoration-color: #00af00\">0</span>][<span style=\"color: #00af00; text-decoration-color: #00af00\">0</span>]       │\n",
       "│ (<span style=\"color: #0087ff; text-decoration-color: #0087ff\">BatchNormalizatio…</span> │                   │            │                   │\n",
       "├─────────────────────┼───────────────────┼────────────┼───────────────────┤\n",
       "│ dropout (<span style=\"color: #0087ff; text-decoration-color: #0087ff\">Dropout</span>)   │ (<span style=\"color: #00d7ff; text-decoration-color: #00d7ff\">None</span>, <span style=\"color: #00af00; text-decoration-color: #00af00\">128</span>)       │          <span style=\"color: #00af00; text-decoration-color: #00af00\">0</span> │ batch_normalizat… │\n",
       "├─────────────────────┼───────────────────┼────────────┼───────────────────┤\n",
       "│ dense_1 (<span style=\"color: #0087ff; text-decoration-color: #0087ff\">Dense</span>)     │ (<span style=\"color: #00d7ff; text-decoration-color: #00d7ff\">None</span>, <span style=\"color: #00af00; text-decoration-color: #00af00\">64</span>)        │      <span style=\"color: #00af00; text-decoration-color: #00af00\">8,256</span> │ dropout[<span style=\"color: #00af00; text-decoration-color: #00af00\">0</span>][<span style=\"color: #00af00; text-decoration-color: #00af00\">0</span>]     │\n",
       "├─────────────────────┼───────────────────┼────────────┼───────────────────┤\n",
       "│ batch_normalizatio… │ (<span style=\"color: #00d7ff; text-decoration-color: #00d7ff\">None</span>, <span style=\"color: #00af00; text-decoration-color: #00af00\">64</span>)        │        <span style=\"color: #00af00; text-decoration-color: #00af00\">256</span> │ dense_1[<span style=\"color: #00af00; text-decoration-color: #00af00\">0</span>][<span style=\"color: #00af00; text-decoration-color: #00af00\">0</span>]     │\n",
       "│ (<span style=\"color: #0087ff; text-decoration-color: #0087ff\">BatchNormalizatio…</span> │                   │            │                   │\n",
       "├─────────────────────┼───────────────────┼────────────┼───────────────────┤\n",
       "│ dropout_1 (<span style=\"color: #0087ff; text-decoration-color: #0087ff\">Dropout</span>) │ (<span style=\"color: #00d7ff; text-decoration-color: #00d7ff\">None</span>, <span style=\"color: #00af00; text-decoration-color: #00af00\">64</span>)        │          <span style=\"color: #00af00; text-decoration-color: #00af00\">0</span> │ batch_normalizat… │\n",
       "├─────────────────────┼───────────────────┼────────────┼───────────────────┤\n",
       "│ encoded_layer       │ (<span style=\"color: #00d7ff; text-decoration-color: #00d7ff\">None</span>, <span style=\"color: #00af00; text-decoration-color: #00af00\">32</span>)        │      <span style=\"color: #00af00; text-decoration-color: #00af00\">2,080</span> │ dropout_1[<span style=\"color: #00af00; text-decoration-color: #00af00\">0</span>][<span style=\"color: #00af00; text-decoration-color: #00af00\">0</span>]   │\n",
       "│ (<span style=\"color: #0087ff; text-decoration-color: #0087ff\">Dense</span>)             │                   │            │                   │\n",
       "├─────────────────────┼───────────────────┼────────────┼───────────────────┤\n",
       "│ dense_2 (<span style=\"color: #0087ff; text-decoration-color: #0087ff\">Dense</span>)     │ (<span style=\"color: #00d7ff; text-decoration-color: #00d7ff\">None</span>, <span style=\"color: #00af00; text-decoration-color: #00af00\">64</span>)        │      <span style=\"color: #00af00; text-decoration-color: #00af00\">2,112</span> │ encoded_layer[<span style=\"color: #00af00; text-decoration-color: #00af00\">0</span>]… │\n",
       "├─────────────────────┼───────────────────┼────────────┼───────────────────┤\n",
       "│ batch_normalizatio… │ (<span style=\"color: #00d7ff; text-decoration-color: #00d7ff\">None</span>, <span style=\"color: #00af00; text-decoration-color: #00af00\">64</span>)        │        <span style=\"color: #00af00; text-decoration-color: #00af00\">256</span> │ dense_2[<span style=\"color: #00af00; text-decoration-color: #00af00\">0</span>][<span style=\"color: #00af00; text-decoration-color: #00af00\">0</span>]     │\n",
       "│ (<span style=\"color: #0087ff; text-decoration-color: #0087ff\">BatchNormalizatio…</span> │                   │            │                   │\n",
       "├─────────────────────┼───────────────────┼────────────┼───────────────────┤\n",
       "│ dense_3 (<span style=\"color: #0087ff; text-decoration-color: #0087ff\">Dense</span>)     │ (<span style=\"color: #00d7ff; text-decoration-color: #00d7ff\">None</span>, <span style=\"color: #00af00; text-decoration-color: #00af00\">128</span>)       │      <span style=\"color: #00af00; text-decoration-color: #00af00\">8,320</span> │ batch_normalizat… │\n",
       "├─────────────────────┼───────────────────┼────────────┼───────────────────┤\n",
       "│ batch_normalizatio… │ (<span style=\"color: #00d7ff; text-decoration-color: #00d7ff\">None</span>, <span style=\"color: #00af00; text-decoration-color: #00af00\">128</span>)       │        <span style=\"color: #00af00; text-decoration-color: #00af00\">512</span> │ dense_3[<span style=\"color: #00af00; text-decoration-color: #00af00\">0</span>][<span style=\"color: #00af00; text-decoration-color: #00af00\">0</span>]     │\n",
       "│ (<span style=\"color: #0087ff; text-decoration-color: #0087ff\">BatchNormalizatio…</span> │                   │            │                   │\n",
       "├─────────────────────┼───────────────────┼────────────┼───────────────────┤\n",
       "│ dense_4 (<span style=\"color: #0087ff; text-decoration-color: #0087ff\">Dense</span>)     │ (<span style=\"color: #00d7ff; text-decoration-color: #00d7ff\">None</span>, <span style=\"color: #00af00; text-decoration-color: #00af00\">203</span>)       │     <span style=\"color: #00af00; text-decoration-color: #00af00\">26,187</span> │ batch_normalizat… │\n",
       "└─────────────────────┴───────────────────┴────────────┴───────────────────┘\n",
       "</pre>\n"
      ],
      "text/plain": [
       "┏━━━━━━━━━━━━━━━━━━━━━┳━━━━━━━━━━━━━━━━━━━┳━━━━━━━━━━━━┳━━━━━━━━━━━━━━━━━━━┓\n",
       "┃\u001b[1m \u001b[0m\u001b[1mLayer (type)       \u001b[0m\u001b[1m \u001b[0m┃\u001b[1m \u001b[0m\u001b[1mOutput Shape     \u001b[0m\u001b[1m \u001b[0m┃\u001b[1m \u001b[0m\u001b[1m   Param #\u001b[0m\u001b[1m \u001b[0m┃\u001b[1m \u001b[0m\u001b[1mConnected to     \u001b[0m\u001b[1m \u001b[0m┃\n",
       "┡━━━━━━━━━━━━━━━━━━━━━╇━━━━━━━━━━━━━━━━━━━╇━━━━━━━━━━━━╇━━━━━━━━━━━━━━━━━━━┩\n",
       "│ app_input           │ (\u001b[38;5;45mNone\u001b[0m, \u001b[38;5;34m1\u001b[0m)         │          \u001b[38;5;34m0\u001b[0m │ -                 │\n",
       "│ (\u001b[38;5;33mInputLayer\u001b[0m)        │                   │            │                   │\n",
       "├─────────────────────┼───────────────────┼────────────┼───────────────────┤\n",
       "│ device_input        │ (\u001b[38;5;45mNone\u001b[0m, \u001b[38;5;34m1\u001b[0m)         │          \u001b[38;5;34m0\u001b[0m │ -                 │\n",
       "│ (\u001b[38;5;33mInputLayer\u001b[0m)        │                   │            │                   │\n",
       "├─────────────────────┼───────────────────┼────────────┼───────────────────┤\n",
       "│ os_input            │ (\u001b[38;5;45mNone\u001b[0m, \u001b[38;5;34m1\u001b[0m)         │          \u001b[38;5;34m0\u001b[0m │ -                 │\n",
       "│ (\u001b[38;5;33mInputLayer\u001b[0m)        │                   │            │                   │\n",
       "├─────────────────────┼───────────────────┼────────────┼───────────────────┤\n",
       "│ channel_input       │ (\u001b[38;5;45mNone\u001b[0m, \u001b[38;5;34m1\u001b[0m)         │          \u001b[38;5;34m0\u001b[0m │ -                 │\n",
       "│ (\u001b[38;5;33mInputLayer\u001b[0m)        │                   │            │                   │\n",
       "├─────────────────────┼───────────────────┼────────────┼───────────────────┤\n",
       "│ app_embedding       │ (\u001b[38;5;45mNone\u001b[0m, \u001b[38;5;34m1\u001b[0m, \u001b[38;5;34m50\u001b[0m)     │     \u001b[38;5;34m22,150\u001b[0m │ app_input[\u001b[38;5;34m0\u001b[0m][\u001b[38;5;34m0\u001b[0m]   │\n",
       "│ (\u001b[38;5;33mEmbedding\u001b[0m)         │                   │            │                   │\n",
       "├─────────────────────┼───────────────────┼────────────┼───────────────────┤\n",
       "│ device_embedding    │ (\u001b[38;5;45mNone\u001b[0m, \u001b[38;5;34m1\u001b[0m, \u001b[38;5;34m50\u001b[0m)     │     \u001b[38;5;34m96,500\u001b[0m │ device_input[\u001b[38;5;34m0\u001b[0m][\u001b[38;5;34m…\u001b[0m │\n",
       "│ (\u001b[38;5;33mEmbedding\u001b[0m)         │                   │            │                   │\n",
       "├─────────────────────┼───────────────────┼────────────┼───────────────────┤\n",
       "│ os_embedding        │ (\u001b[38;5;45mNone\u001b[0m, \u001b[38;5;34m1\u001b[0m, \u001b[38;5;34m50\u001b[0m)     │     \u001b[38;5;34m14,900\u001b[0m │ os_input[\u001b[38;5;34m0\u001b[0m][\u001b[38;5;34m0\u001b[0m]    │\n",
       "│ (\u001b[38;5;33mEmbedding\u001b[0m)         │                   │            │                   │\n",
       "├─────────────────────┼───────────────────┼────────────┼───────────────────┤\n",
       "│ channel_embedding   │ (\u001b[38;5;45mNone\u001b[0m, \u001b[38;5;34m1\u001b[0m, \u001b[38;5;34m50\u001b[0m)     │      \u001b[38;5;34m9,150\u001b[0m │ channel_input[\u001b[38;5;34m0\u001b[0m]… │\n",
       "│ (\u001b[38;5;33mEmbedding\u001b[0m)         │                   │            │                   │\n",
       "├─────────────────────┼───────────────────┼────────────┼───────────────────┤\n",
       "│ flatten (\u001b[38;5;33mFlatten\u001b[0m)   │ (\u001b[38;5;45mNone\u001b[0m, \u001b[38;5;34m50\u001b[0m)        │          \u001b[38;5;34m0\u001b[0m │ app_embedding[\u001b[38;5;34m0\u001b[0m]… │\n",
       "├─────────────────────┼───────────────────┼────────────┼───────────────────┤\n",
       "│ flatten_1 (\u001b[38;5;33mFlatten\u001b[0m) │ (\u001b[38;5;45mNone\u001b[0m, \u001b[38;5;34m50\u001b[0m)        │          \u001b[38;5;34m0\u001b[0m │ device_embedding… │\n",
       "├─────────────────────┼───────────────────┼────────────┼───────────────────┤\n",
       "│ flatten_2 (\u001b[38;5;33mFlatten\u001b[0m) │ (\u001b[38;5;45mNone\u001b[0m, \u001b[38;5;34m50\u001b[0m)        │          \u001b[38;5;34m0\u001b[0m │ os_embedding[\u001b[38;5;34m0\u001b[0m][\u001b[38;5;34m…\u001b[0m │\n",
       "├─────────────────────┼───────────────────┼────────────┼───────────────────┤\n",
       "│ flatten_3 (\u001b[38;5;33mFlatten\u001b[0m) │ (\u001b[38;5;45mNone\u001b[0m, \u001b[38;5;34m50\u001b[0m)        │          \u001b[38;5;34m0\u001b[0m │ channel_embeddin… │\n",
       "├─────────────────────┼───────────────────┼────────────┼───────────────────┤\n",
       "│ numerical_input     │ (\u001b[38;5;45mNone\u001b[0m, \u001b[38;5;34m3\u001b[0m)         │          \u001b[38;5;34m0\u001b[0m │ -                 │\n",
       "│ (\u001b[38;5;33mInputLayer\u001b[0m)        │                   │            │                   │\n",
       "├─────────────────────┼───────────────────┼────────────┼───────────────────┤\n",
       "│ concatenate         │ (\u001b[38;5;45mNone\u001b[0m, \u001b[38;5;34m203\u001b[0m)       │          \u001b[38;5;34m0\u001b[0m │ flatten[\u001b[38;5;34m0\u001b[0m][\u001b[38;5;34m0\u001b[0m],    │\n",
       "│ (\u001b[38;5;33mConcatenate\u001b[0m)       │                   │            │ flatten_1[\u001b[38;5;34m0\u001b[0m][\u001b[38;5;34m0\u001b[0m],  │\n",
       "│                     │                   │            │ flatten_2[\u001b[38;5;34m0\u001b[0m][\u001b[38;5;34m0\u001b[0m],  │\n",
       "│                     │                   │            │ flatten_3[\u001b[38;5;34m0\u001b[0m][\u001b[38;5;34m0\u001b[0m],  │\n",
       "│                     │                   │            │ numerical_input[\u001b[38;5;34m…\u001b[0m │\n",
       "├─────────────────────┼───────────────────┼────────────┼───────────────────┤\n",
       "│ dense (\u001b[38;5;33mDense\u001b[0m)       │ (\u001b[38;5;45mNone\u001b[0m, \u001b[38;5;34m128\u001b[0m)       │     \u001b[38;5;34m26,112\u001b[0m │ concatenate[\u001b[38;5;34m0\u001b[0m][\u001b[38;5;34m0\u001b[0m] │\n",
       "├─────────────────────┼───────────────────┼────────────┼───────────────────┤\n",
       "│ batch_normalization │ (\u001b[38;5;45mNone\u001b[0m, \u001b[38;5;34m128\u001b[0m)       │        \u001b[38;5;34m512\u001b[0m │ dense[\u001b[38;5;34m0\u001b[0m][\u001b[38;5;34m0\u001b[0m]       │\n",
       "│ (\u001b[38;5;33mBatchNormalizatio…\u001b[0m │                   │            │                   │\n",
       "├─────────────────────┼───────────────────┼────────────┼───────────────────┤\n",
       "│ dropout (\u001b[38;5;33mDropout\u001b[0m)   │ (\u001b[38;5;45mNone\u001b[0m, \u001b[38;5;34m128\u001b[0m)       │          \u001b[38;5;34m0\u001b[0m │ batch_normalizat… │\n",
       "├─────────────────────┼───────────────────┼────────────┼───────────────────┤\n",
       "│ dense_1 (\u001b[38;5;33mDense\u001b[0m)     │ (\u001b[38;5;45mNone\u001b[0m, \u001b[38;5;34m64\u001b[0m)        │      \u001b[38;5;34m8,256\u001b[0m │ dropout[\u001b[38;5;34m0\u001b[0m][\u001b[38;5;34m0\u001b[0m]     │\n",
       "├─────────────────────┼───────────────────┼────────────┼───────────────────┤\n",
       "│ batch_normalizatio… │ (\u001b[38;5;45mNone\u001b[0m, \u001b[38;5;34m64\u001b[0m)        │        \u001b[38;5;34m256\u001b[0m │ dense_1[\u001b[38;5;34m0\u001b[0m][\u001b[38;5;34m0\u001b[0m]     │\n",
       "│ (\u001b[38;5;33mBatchNormalizatio…\u001b[0m │                   │            │                   │\n",
       "├─────────────────────┼───────────────────┼────────────┼───────────────────┤\n",
       "│ dropout_1 (\u001b[38;5;33mDropout\u001b[0m) │ (\u001b[38;5;45mNone\u001b[0m, \u001b[38;5;34m64\u001b[0m)        │          \u001b[38;5;34m0\u001b[0m │ batch_normalizat… │\n",
       "├─────────────────────┼───────────────────┼────────────┼───────────────────┤\n",
       "│ encoded_layer       │ (\u001b[38;5;45mNone\u001b[0m, \u001b[38;5;34m32\u001b[0m)        │      \u001b[38;5;34m2,080\u001b[0m │ dropout_1[\u001b[38;5;34m0\u001b[0m][\u001b[38;5;34m0\u001b[0m]   │\n",
       "│ (\u001b[38;5;33mDense\u001b[0m)             │                   │            │                   │\n",
       "├─────────────────────┼───────────────────┼────────────┼───────────────────┤\n",
       "│ dense_2 (\u001b[38;5;33mDense\u001b[0m)     │ (\u001b[38;5;45mNone\u001b[0m, \u001b[38;5;34m64\u001b[0m)        │      \u001b[38;5;34m2,112\u001b[0m │ encoded_layer[\u001b[38;5;34m0\u001b[0m]… │\n",
       "├─────────────────────┼───────────────────┼────────────┼───────────────────┤\n",
       "│ batch_normalizatio… │ (\u001b[38;5;45mNone\u001b[0m, \u001b[38;5;34m64\u001b[0m)        │        \u001b[38;5;34m256\u001b[0m │ dense_2[\u001b[38;5;34m0\u001b[0m][\u001b[38;5;34m0\u001b[0m]     │\n",
       "│ (\u001b[38;5;33mBatchNormalizatio…\u001b[0m │                   │            │                   │\n",
       "├─────────────────────┼───────────────────┼────────────┼───────────────────┤\n",
       "│ dense_3 (\u001b[38;5;33mDense\u001b[0m)     │ (\u001b[38;5;45mNone\u001b[0m, \u001b[38;5;34m128\u001b[0m)       │      \u001b[38;5;34m8,320\u001b[0m │ batch_normalizat… │\n",
       "├─────────────────────┼───────────────────┼────────────┼───────────────────┤\n",
       "│ batch_normalizatio… │ (\u001b[38;5;45mNone\u001b[0m, \u001b[38;5;34m128\u001b[0m)       │        \u001b[38;5;34m512\u001b[0m │ dense_3[\u001b[38;5;34m0\u001b[0m][\u001b[38;5;34m0\u001b[0m]     │\n",
       "│ (\u001b[38;5;33mBatchNormalizatio…\u001b[0m │                   │            │                   │\n",
       "├─────────────────────┼───────────────────┼────────────┼───────────────────┤\n",
       "│ dense_4 (\u001b[38;5;33mDense\u001b[0m)     │ (\u001b[38;5;45mNone\u001b[0m, \u001b[38;5;34m203\u001b[0m)       │     \u001b[38;5;34m26,187\u001b[0m │ batch_normalizat… │\n",
       "└─────────────────────┴───────────────────┴────────────┴───────────────────┘\n"
      ]
     },
     "metadata": {},
     "output_type": "display_data"
    },
    {
     "data": {
      "text/html": [
       "<pre style=\"white-space:pre;overflow-x:auto;line-height:normal;font-family:Menlo,'DejaVu Sans Mono',consolas,'Courier New',monospace\"><span style=\"font-weight: bold\"> Total params: </span><span style=\"color: #00af00; text-decoration-color: #00af00\">217,303</span> (848.84 KB)\n",
       "</pre>\n"
      ],
      "text/plain": [
       "\u001b[1m Total params: \u001b[0m\u001b[38;5;34m217,303\u001b[0m (848.84 KB)\n"
      ]
     },
     "metadata": {},
     "output_type": "display_data"
    },
    {
     "data": {
      "text/html": [
       "<pre style=\"white-space:pre;overflow-x:auto;line-height:normal;font-family:Menlo,'DejaVu Sans Mono',consolas,'Courier New',monospace\"><span style=\"font-weight: bold\"> Trainable params: </span><span style=\"color: #00af00; text-decoration-color: #00af00\">216,535</span> (845.84 KB)\n",
       "</pre>\n"
      ],
      "text/plain": [
       "\u001b[1m Trainable params: \u001b[0m\u001b[38;5;34m216,535\u001b[0m (845.84 KB)\n"
      ]
     },
     "metadata": {},
     "output_type": "display_data"
    },
    {
     "data": {
      "text/html": [
       "<pre style=\"white-space:pre;overflow-x:auto;line-height:normal;font-family:Menlo,'DejaVu Sans Mono',consolas,'Courier New',monospace\"><span style=\"font-weight: bold\"> Non-trainable params: </span><span style=\"color: #00af00; text-decoration-color: #00af00\">768</span> (3.00 KB)\n",
       "</pre>\n"
      ],
      "text/plain": [
       "\u001b[1m Non-trainable params: \u001b[0m\u001b[38;5;34m768\u001b[0m (3.00 KB)\n"
      ]
     },
     "metadata": {},
     "output_type": "display_data"
    }
   ],
   "source": [
    "import numpy as np\n",
    "import tensorflow as tf\n",
    "from tensorflow.keras.layers import Input, Dense, Embedding, Flatten, Concatenate, BatchNormalization, Dropout\n",
    "from tensorflow.keras.models import Model\n",
    "\n",
    "categorical_features = ['app', 'device', 'os', 'channel']\n",
    "numerical_features = ['hour', 'day_of_week', 'time_since_last_click']\n",
    "\n",
    "categorical_inputs = []\n",
    "embedding_layers = []\n",
    "\n",
    "for feature in categorical_features:\n",
    "    vocab_size = int(np.max(inputs[feature])) + 1  \n",
    "    embed_dim = min(50, (vocab_size + 1) // 2)\n",
    "    input_cat = Input(shape=(1,), name=f'{feature}_input')\n",
    "    embedding = Embedding(input_dim=vocab_size, output_dim=embed_dim, input_length=1, name=f'{feature}_embedding')(input_cat)\n",
    "    embedding = Flatten()(embedding)\n",
    "    categorical_inputs.append(input_cat)\n",
    "    embedding_layers.append(embedding)\n",
    "\n",
    "# Defining input layer for numerical features\n",
    "numerical_input = Input(shape=(len(numerical_features),), name='numerical_input')\n",
    "\n",
    "# Concatenating all embeddings and numerical inputs\n",
    "all_inputs = embedding_layers + [numerical_input]\n",
    "x = Concatenate()(all_inputs)\n",
    "\n",
    "# Now building the encoding and decoding layers\n",
    "encoded = Dense(128, activation='relu')(x)\n",
    "encoded = BatchNormalization()(encoded)\n",
    "encoded = Dropout(0.2)(encoded)\n",
    "encoded = Dense(64, activation='relu')(encoded)\n",
    "encoded = BatchNormalization()(encoded)\n",
    "encoded = Dropout(0.2)(encoded)\n",
    "encoded = Dense(32, activation='relu', name='encoded_layer')(encoded)\n",
    "\n",
    "decoded = Dense(64, activation='relu')(encoded)\n",
    "decoded = BatchNormalization()(decoded)\n",
    "decoded = Dense(128, activation='relu')(decoded)\n",
    "decoded = BatchNormalization()(decoded)\n",
    "decoded = Dense(x.shape[1], activation='linear')(decoded)  \n",
    "# Reconstructing the concatenated input\n",
    "\n",
    "# Defining the autoencoder model\n",
    "autoencoder = Model(inputs=categorical_inputs + [numerical_input], outputs=decoded)\n",
    "\n",
    "autoencoder.compile(optimizer='adam', loss='mse')\n",
    "\n",
    "autoencoder.summary()\n"
   ]
  },
  {
   "cell_type": "markdown",
   "metadata": {},
   "source": [
    "Training the Autoencoder"
   ]
  },
  {
   "cell_type": "code",
   "execution_count": 5,
   "metadata": {},
   "outputs": [
    {
     "name": "stdout",
     "output_type": "stream",
     "text": [
      "\u001b[1m31251/31251\u001b[0m \u001b[32m━━━━━━━━━━━━━━━━━━━━\u001b[0m\u001b[37m\u001b[0m \u001b[1m74s\u001b[0m 2ms/step\n",
      "Epoch 1/10\n",
      "\u001b[1m28126/28126\u001b[0m \u001b[32m━━━━━━━━━━━━━━━━━━━━\u001b[0m\u001b[37m\u001b[0m \u001b[1m472s\u001b[0m 16ms/step - loss: 0.0044 - val_loss: 4.7884e-04\n",
      "Epoch 2/10\n",
      "\u001b[1m28126/28126\u001b[0m \u001b[32m━━━━━━━━━━━━━━━━━━━━\u001b[0m\u001b[37m\u001b[0m \u001b[1m481s\u001b[0m 17ms/step - loss: 2.3096e-04 - val_loss: 1.9806e-04\n",
      "Epoch 3/10\n",
      "\u001b[1m28126/28126\u001b[0m \u001b[32m━━━━━━━━━━━━━━━━━━━━\u001b[0m\u001b[37m\u001b[0m \u001b[1m476s\u001b[0m 17ms/step - loss: 1.5327e-04 - val_loss: 1.4908e-04\n",
      "Epoch 4/10\n",
      "\u001b[1m28126/28126\u001b[0m \u001b[32m━━━━━━━━━━━━━━━━━━━━\u001b[0m\u001b[37m\u001b[0m \u001b[1m464s\u001b[0m 16ms/step - loss: 1.1986e-04 - val_loss: 1.4295e-04\n",
      "Epoch 5/10\n",
      "\u001b[1m28126/28126\u001b[0m \u001b[32m━━━━━━━━━━━━━━━━━━━━\u001b[0m\u001b[37m\u001b[0m \u001b[1m495s\u001b[0m 18ms/step - loss: 1.0951e-04 - val_loss: 1.3576e-04\n",
      "Epoch 6/10\n",
      "\u001b[1m28126/28126\u001b[0m \u001b[32m━━━━━━━━━━━━━━━━━━━━\u001b[0m\u001b[37m\u001b[0m \u001b[1m506s\u001b[0m 18ms/step - loss: 1.0482e-04 - val_loss: 1.3042e-04\n",
      "Epoch 7/10\n",
      "\u001b[1m28126/28126\u001b[0m \u001b[32m━━━━━━━━━━━━━━━━━━━━\u001b[0m\u001b[37m\u001b[0m \u001b[1m532s\u001b[0m 19ms/step - loss: 1.0181e-04 - val_loss: 1.3238e-04\n",
      "Epoch 8/10\n",
      "\u001b[1m28126/28126\u001b[0m \u001b[32m━━━━━━━━━━━━━━━━━━━━\u001b[0m\u001b[37m\u001b[0m \u001b[1m566s\u001b[0m 20ms/step - loss: 9.8973e-05 - val_loss: 1.3015e-04\n",
      "Epoch 9/10\n",
      "\u001b[1m28126/28126\u001b[0m \u001b[32m━━━━━━━━━━━━━━━━━━━━\u001b[0m\u001b[37m\u001b[0m \u001b[1m590s\u001b[0m 21ms/step - loss: 9.7614e-05 - val_loss: 1.2120e-04\n",
      "Epoch 10/10\n",
      "\u001b[1m28126/28126\u001b[0m \u001b[32m━━━━━━━━━━━━━━━━━━━━\u001b[0m\u001b[37m\u001b[0m \u001b[1m589s\u001b[0m 21ms/step - loss: 9.6405e-05 - val_loss: 1.2474e-04\n"
     ]
    },
    {
     "data": {
      "text/plain": [
       "<keras.src.callbacks.history.History at 0x251495a7c80>"
      ]
     },
     "execution_count": 5,
     "metadata": {},
     "output_type": "execute_result"
    }
   ],
   "source": [
    "#categorical data = categorical features and numerical data = numerical features\n",
    "categorical_data = [inputs[feature] for feature in categorical_features]\n",
    "\n",
    "numerical_data = np.hstack([inputs[feature] for feature in numerical_features])\n",
    "# We need to ensure numerical_data has shape (num_samples, num_numerical_features)\n",
    "numerical_data = numerical_data.reshape(-1, len(numerical_features))\n",
    "\n",
    "# Moddel creation up to concatenation layer\n",
    "concatenated_input_model = Model(inputs=categorical_inputs + [numerical_input], outputs=x)\n",
    "\n",
    "# Preparing x_data\n",
    "x_data = concatenated_input_model.predict(categorical_data + [numerical_data], batch_size=256)\n",
    "\n",
    "# Train the autoencoder\n",
    "autoencoder.fit(\n",
    "    x=categorical_data + [numerical_data],\n",
    "    y=x_data,\n",
    "    epochs=10,\n",
    "    batch_size=256,\n",
    "    shuffle=True,\n",
    "    validation_split=0.1\n",
    ")\n"
   ]
  },
  {
   "cell_type": "code",
   "execution_count": 6,
   "metadata": {},
   "outputs": [
    {
     "data": {
      "text/plain": [
       "['encoder_trained_model.pkl']"
      ]
     },
     "execution_count": 6,
     "metadata": {},
     "output_type": "execute_result"
    }
   ],
   "source": [
    "import joblib\n",
    "joblib.dump(autoencoder, 'encoder_trained_model.pkl')\n"
   ]
  },
  {
   "cell_type": "code",
   "execution_count": null,
   "metadata": {},
   "outputs": [],
   "source": []
  },
  {
   "cell_type": "markdown",
   "metadata": {},
   "source": [
    "Anamoly detection"
   ]
  },
  {
   "cell_type": "code",
   "execution_count": 8,
   "metadata": {},
   "outputs": [
    {
     "name": "stdout",
     "output_type": "stream",
     "text": [
      "\u001b[1m31251/31251\u001b[0m \u001b[32m━━━━━━━━━━━━━━━━━━━━\u001b[0m\u001b[37m\u001b[0m \u001b[1m201s\u001b[0m 6ms/step\n",
      "Number of anomalies detected: 142497\n"
     ]
    }
   ],
   "source": [
    "\n",
    "# Using the trained autoencoder to fetch reconstructed inputs\n",
    "reconstructed_data = autoencoder.predict(categorical_data + [numerical_data], batch_size=256)\n",
    "\n",
    "reconstruction_errors = np.mean(np.square(x_data - reconstructed_data), axis=1)\n",
    "\n",
    "threshold = np.mean(reconstruction_errors) + 3 * np.std(reconstruction_errors)\n",
    "\n",
    "anomalies = reconstruction_errors > threshold       # Identifying the anamolies\n",
    "\n",
    "# Fetching the indices of anomalies\n",
    "anomaly_indices = np.where(anomalies)[0]\n",
    "\n",
    "print(f\"Number of anomalies detected: {len(anomaly_indices)}\")\n",
    "\n",
    "anomalous_data = {\n",
    "    'inputs': {feature: inputs[feature][anomaly_indices] for feature in inputs},\n",
    "    'reconstruction_error': reconstruction_errors[anomaly_indices]\n",
    "}\n"
   ]
  },
  {
   "cell_type": "markdown",
   "metadata": {},
   "source": [
    "Data preparation for HDBSCAN    "
   ]
  },
  {
   "cell_type": "code",
   "execution_count": 9,
   "metadata": {},
   "outputs": [],
   "source": [
    "import collections\n",
    "import numpy as np\n",
    "import tensorflow as tf\n",
    "from tensorflow.keras.models import Model\n",
    "import hdbscan\n",
    "\n",
    "# Inputs schema: inputs = {'app': ..., 'device': ..., 'os': ..., 'channel': ..., 'hour': ..., 'day_of_week': ..., 'time_since_last_click': ...}\n",
    "\n",
    "categorical_features = ['app', 'device', 'os', 'channel'] \n",
    "numerical_features = ['hour', 'day_of_week', 'time_since_last_click'] # Already defined in buildingautoencoder cell\n",
    "\n",
    "# Extracting the encoder part of the autoencoder\n",
    "encoder = Model(inputs=autoencoder.input, outputs=autoencoder.get_layer('encoded_layer').output)\n",
    "\n",
    "# Preparing the input data for the encoder\n",
    "categorical_data = [inputs[feature] for feature in categorical_features]\n",
    "\n",
    "numerical_data = np.hstack([inputs[feature] for feature in numerical_features])\n",
    "numerical_data = numerical_data.reshape(-1, len(numerical_features))\n"
   ]
  },
  {
   "cell_type": "code",
   "execution_count": 10,
   "metadata": {},
   "outputs": [
    {
     "name": "stdout",
     "output_type": "stream",
     "text": [
      "\u001b[1m31251/31251\u001b[0m \u001b[32m━━━━━━━━━━━━━━━━━━━━\u001b[0m\u001b[37m\u001b[0m \u001b[1m79s\u001b[0m 3ms/step\n"
     ]
    }
   ],
   "source": [
    "# Get the compressed representations from the encoder and use it in the HDBSCAN\n",
    "# The encoder outputs lower-dimensional representations that capture essential features, making clustering more effective and computationally efficient.\n",
    "encoded_data = encoder.predict(categorical_data + [numerical_data], batch_size=256)"
   ]
  },
  {
   "cell_type": "code",
   "execution_count": 11,
   "metadata": {},
   "outputs": [],
   "source": [
    "encoded_data = encoded_data.astype(np.float32)\n"
   ]
  },
  {
   "cell_type": "markdown",
   "metadata": {},
   "source": [
    "Alternative:\n",
    "from sklearn.cluster import MiniBatchKMeans\n",
    "from sklearn.decomposition import PCA\n",
    "\n",
    "# Reducing dimensionality using PCA\n",
    "pca = PCA(n_components=10)\n",
    "encoded_data_reduced = pca.fit_transform(encoded_data)\n",
    "\n",
    "clusterer = MiniBatchKMeans(n_clusters=10, batch_size=10000)\n",
    "cluster_labels = clusterer.fit_predict(encoded_data_reduced)"
   ]
  },
  {
   "cell_type": "markdown",
   "metadata": {},
   "source": [
    "Using the best value of K\n"
   ]
  },
  {
   "cell_type": "code",
   "execution_count": 18,
   "metadata": {},
   "outputs": [
    {
     "name": "stdout",
     "output_type": "stream",
     "text": [
      "Number of anomalies detected: 101918\n"
     ]
    },
    {
     "data": {
      "image/png": "[encoded data removed]",
      "text/plain": [
       "<Figure size 1000x600 with 1 Axes>"
      ]
     },
     "metadata": {},
     "output_type": "display_data"
    }
   ],
   "source": [
    "\n",
    "\n",
    "# Initializing and fitting MiniBatchKMeans with optimal k\n",
    "clusterer = MiniBatchKMeans(n_clusters=10, batch_size=10000)\n",
    "cluster_labels = clusterer.fit_predict(encoded_data_reduced)\n",
    "\n",
    "df['cluster'] = cluster_labels\n",
    "\n",
    "# Finding Anomalies based on distance from center of cluster\n",
    "\n",
    "# Finding distances to cluster centers\n",
    "distances = clusterer.transform(encoded_data_reduced)\n",
    "assigned_cluster_distances = distances[np.arange(distances.shape[0]), cluster_labels]\n",
    "\n",
    "# Determining threshold for anomalies  using the 99.7(e.g., mean + 3 standard deviations)\n",
    "mean_distance = np.mean(assigned_cluster_distances)\n",
    "std_distance = np.std(assigned_cluster_distances)\n",
    "threshold = mean_distance + 3 * std_distance  \n",
    "\n",
    "# Identifying anomalies\n",
    "anomalies = assigned_cluster_distances > threshold\n",
    "anomaly_indices = np.where(anomalies)[0]\n",
    "print(f\"Number of anomalies detected: {len(anomaly_indices)}\")\n",
    "\n",
    "anomaly_data = df.iloc[anomaly_indices]\n",
    "\n",
    "anomaly_data.to_csv('anomalies.csv', index=False)\n",
    "\n",
    "pca_2d = PCA(n_components=2)\n",
    "data_2d = pca_2d.fit_transform(encoded_data_reduced)\n",
    "\n",
    "# Plotting all data points and highlighting anomalies\n",
    "plt.figure(figsize=(10, 6))\n",
    "plt.scatter(data_2d[:, 0], data_2d[:, 1], c='blue', s=1, label='Normal Data')\n",
    "plt.scatter(data_2d[anomaly_indices, 0], data_2d[anomaly_indices, 1], c='red', s=1, label='Anomalies')\n",
    "plt.xlabel('PCA Component 1')\n",
    "plt.ylabel('PCA Component 2')\n",
    "plt.title('Anomaly Detection Visualization')\n",
    "plt.legend()\n",
    "plt.show()\n"
   ]
  }
 ],
 "metadata": {
  "kernelspec": {
   "display_name": "base",
   "language": "python",
   "name": "python3"
  },
  "language_info": {
   "codemirror_mode": {
    "name": "ipython",
    "version": 3
   },
   "file_extension": ".py",
   "mimetype": "text/x-python",
   "name": "python",
   "nbconvert_exporter": "python",
   "pygments_lexer": "ipython3",
   "version": "3.12.3"
  }
 },
 "nbformat": 4,
 "nbformat_minor": 2
}
